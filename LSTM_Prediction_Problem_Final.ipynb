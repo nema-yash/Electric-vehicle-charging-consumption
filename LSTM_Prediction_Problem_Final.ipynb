{
  "nbformat": 4,
  "nbformat_minor": 0,
  "metadata": {
    "colab": {
      "name": "LSTM Prediction - Problem - Final",
      "provenance": []
    },
    "kernelspec": {
      "name": "python3",
      "display_name": "Python 3"
    },
    "language_info": {
      "name": "python"
    }
  },
  "cells": [
    {
      "cell_type": "code",
      "metadata": {
        "id": "bMiMUkjzA0jF"
      },
      "source": [
        "import matplotlib.pyplot as plt\n",
        "import pandas as pd\n",
        "import numpy as np\n",
        "from scipy.stats import randint\n",
        "import seaborn as sns # used for plot interactive graph. \n",
        "import math\n",
        "import pytz\n",
        "\n",
        "from sklearn.model_selection import train_test_split # to split the data into two parts\n",
        "from sklearn.model_selection import KFold # use for cross validation\n",
        "from sklearn.preprocessing import StandardScaler # for normalization\n",
        "from sklearn.preprocessing import MinMaxScaler\n",
        "from sklearn.pipeline import Pipeline # pipeline making\n",
        "from sklearn.model_selection import cross_val_score\n",
        "from sklearn.feature_selection import SelectFromModel\n",
        "from sklearn import metrics # for the check the error and accuracy of the model\n",
        "from sklearn.metrics import mean_squared_error,r2_score\n",
        "\n",
        "## RNN:\n",
        "import keras\n",
        "from keras.layers import Dense\n",
        "from keras.models import Sequential\n",
        "from tensorflow.keras.utils import to_categorical\n",
        "from tensorflow.keras.optimizers import SGD \n",
        "from tensorflow.keras.optimizers import Adam\n",
        "from keras.callbacks import EarlyStopping\n",
        "from keras.utils import np_utils\n",
        "import itertools\n",
        "from keras.layers import LSTM\n",
        "from keras.layers.convolutional import Conv1D\n",
        "from keras.layers.convolutional import MaxPooling1D\n",
        "from keras.layers import Dropout # Careful\n",
        "from keras.layers import BatchNormalization"
      ],
      "execution_count": null,
      "outputs": []
    },
    {
      "cell_type": "code",
      "metadata": {
        "id": "VD9QOp1U2h7r"
      },
      "source": [
        "data_main = pd.read_csv('EV0_325_Final.csv')"
      ],
      "execution_count": null,
      "outputs": []
    },
    {
      "cell_type": "code",
      "metadata": {
        "colab": {
          "base_uri": "https://localhost:8080/",
          "height": 423
        },
        "id": "61KIUOQdmeN0",
        "outputId": "e616e75e-32b7-47ae-f7cd-fd2dedef6b34"
      },
      "source": [
        "data_main"
      ],
      "execution_count": null,
      "outputs": [
        {
          "output_type": "execute_result",
          "data": {
            "text/html": [
              "<div>\n",
              "<style scoped>\n",
              "    .dataframe tbody tr th:only-of-type {\n",
              "        vertical-align: middle;\n",
              "    }\n",
              "\n",
              "    .dataframe tbody tr th {\n",
              "        vertical-align: top;\n",
              "    }\n",
              "\n",
              "    .dataframe thead th {\n",
              "        text-align: right;\n",
              "    }\n",
              "</style>\n",
              "<table border=\"1\" class=\"dataframe\">\n",
              "  <thead>\n",
              "    <tr style=\"text-align: right;\">\n",
              "      <th></th>\n",
              "      <th>Timestamp</th>\n",
              "      <th>EV_Final</th>\n",
              "      <th>Year</th>\n",
              "      <th>Month</th>\n",
              "      <th>Day</th>\n",
              "      <th>Hour</th>\n",
              "    </tr>\n",
              "  </thead>\n",
              "  <tbody>\n",
              "    <tr>\n",
              "      <th>0</th>\n",
              "      <td>12/4/2019 1:00</td>\n",
              "      <td>0.000</td>\n",
              "      <td>2019</td>\n",
              "      <td>12</td>\n",
              "      <td>4</td>\n",
              "      <td>1</td>\n",
              "    </tr>\n",
              "    <tr>\n",
              "      <th>1</th>\n",
              "      <td>12/4/2019 2:00</td>\n",
              "      <td>248.251</td>\n",
              "      <td>2019</td>\n",
              "      <td>12</td>\n",
              "      <td>4</td>\n",
              "      <td>2</td>\n",
              "    </tr>\n",
              "    <tr>\n",
              "      <th>2</th>\n",
              "      <td>12/4/2019 3:00</td>\n",
              "      <td>219.049</td>\n",
              "      <td>2019</td>\n",
              "      <td>12</td>\n",
              "      <td>4</td>\n",
              "      <td>3</td>\n",
              "    </tr>\n",
              "    <tr>\n",
              "      <th>3</th>\n",
              "      <td>12/4/2019 4:00</td>\n",
              "      <td>249.788</td>\n",
              "      <td>2019</td>\n",
              "      <td>12</td>\n",
              "      <td>4</td>\n",
              "      <td>4</td>\n",
              "    </tr>\n",
              "    <tr>\n",
              "      <th>4</th>\n",
              "      <td>12/4/2019 5:00</td>\n",
              "      <td>235.955</td>\n",
              "      <td>2019</td>\n",
              "      <td>12</td>\n",
              "      <td>4</td>\n",
              "      <td>5</td>\n",
              "    </tr>\n",
              "    <tr>\n",
              "      <th>...</th>\n",
              "      <td>...</td>\n",
              "      <td>...</td>\n",
              "      <td>...</td>\n",
              "      <td>...</td>\n",
              "      <td>...</td>\n",
              "      <td>...</td>\n",
              "    </tr>\n",
              "    <tr>\n",
              "      <th>8034</th>\n",
              "      <td>11/2/2020 19:00</td>\n",
              "      <td>0.000</td>\n",
              "      <td>2020</td>\n",
              "      <td>11</td>\n",
              "      <td>2</td>\n",
              "      <td>19</td>\n",
              "    </tr>\n",
              "    <tr>\n",
              "      <th>8035</th>\n",
              "      <td>11/2/2020 20:00</td>\n",
              "      <td>0.000</td>\n",
              "      <td>2020</td>\n",
              "      <td>11</td>\n",
              "      <td>2</td>\n",
              "      <td>20</td>\n",
              "    </tr>\n",
              "    <tr>\n",
              "      <th>8036</th>\n",
              "      <td>11/2/2020 21:00</td>\n",
              "      <td>113.408</td>\n",
              "      <td>2020</td>\n",
              "      <td>11</td>\n",
              "      <td>2</td>\n",
              "      <td>21</td>\n",
              "    </tr>\n",
              "    <tr>\n",
              "      <th>8037</th>\n",
              "      <td>11/2/2020 22:00</td>\n",
              "      <td>0.000</td>\n",
              "      <td>2020</td>\n",
              "      <td>11</td>\n",
              "      <td>2</td>\n",
              "      <td>22</td>\n",
              "    </tr>\n",
              "    <tr>\n",
              "      <th>8038</th>\n",
              "      <td>11/2/2020 23:00</td>\n",
              "      <td>0.000</td>\n",
              "      <td>2020</td>\n",
              "      <td>11</td>\n",
              "      <td>2</td>\n",
              "      <td>23</td>\n",
              "    </tr>\n",
              "  </tbody>\n",
              "</table>\n",
              "<p>8039 rows × 6 columns</p>\n",
              "</div>"
            ],
            "text/plain": [
              "            Timestamp  EV_Final  Year  Month  Day  Hour\n",
              "0      12/4/2019 1:00     0.000  2019     12    4     1\n",
              "1      12/4/2019 2:00   248.251  2019     12    4     2\n",
              "2      12/4/2019 3:00   219.049  2019     12    4     3\n",
              "3      12/4/2019 4:00   249.788  2019     12    4     4\n",
              "4      12/4/2019 5:00   235.955  2019     12    4     5\n",
              "...               ...       ...   ...    ...  ...   ...\n",
              "8034  11/2/2020 19:00     0.000  2020     11    2    19\n",
              "8035  11/2/2020 20:00     0.000  2020     11    2    20\n",
              "8036  11/2/2020 21:00   113.408  2020     11    2    21\n",
              "8037  11/2/2020 22:00     0.000  2020     11    2    22\n",
              "8038  11/2/2020 23:00     0.000  2020     11    2    23\n",
              "\n",
              "[8039 rows x 6 columns]"
            ]
          },
          "metadata": {},
          "execution_count": 3
        }
      ]
    },
    {
      "cell_type": "code",
      "metadata": {
        "id": "D3gN6t53mJuY"
      },
      "source": [
        "# Change in the data \n",
        "data_main['Timestamp'] = pd.to_datetime(data_main[\"Year\"].apply(str)+ \"-\" + data_main[\"Month\"].apply(str) + \"-\" + data_main[\"Day\"].apply(str) + \" \" + data_main[\"Hour\"].apply(str) + \":00:00\" , format='%Y-%m-%d %H:%M:%S')"
      ],
      "execution_count": null,
      "outputs": []
    },
    {
      "cell_type": "code",
      "metadata": {
        "colab": {
          "base_uri": "https://localhost:8080/",
          "height": 423
        },
        "id": "14TUuORVqJqK",
        "outputId": "4fcad62b-a36b-4924-ef39-5aa99f6046a7"
      },
      "source": [
        "data_main"
      ],
      "execution_count": null,
      "outputs": [
        {
          "output_type": "execute_result",
          "data": {
            "text/html": [
              "<div>\n",
              "<style scoped>\n",
              "    .dataframe tbody tr th:only-of-type {\n",
              "        vertical-align: middle;\n",
              "    }\n",
              "\n",
              "    .dataframe tbody tr th {\n",
              "        vertical-align: top;\n",
              "    }\n",
              "\n",
              "    .dataframe thead th {\n",
              "        text-align: right;\n",
              "    }\n",
              "</style>\n",
              "<table border=\"1\" class=\"dataframe\">\n",
              "  <thead>\n",
              "    <tr style=\"text-align: right;\">\n",
              "      <th></th>\n",
              "      <th>Timestamp</th>\n",
              "      <th>EV_Final</th>\n",
              "      <th>Year</th>\n",
              "      <th>Month</th>\n",
              "      <th>Day</th>\n",
              "      <th>Hour</th>\n",
              "    </tr>\n",
              "  </thead>\n",
              "  <tbody>\n",
              "    <tr>\n",
              "      <th>0</th>\n",
              "      <td>2019-12-04 01:00:00</td>\n",
              "      <td>0.000</td>\n",
              "      <td>2019</td>\n",
              "      <td>12</td>\n",
              "      <td>4</td>\n",
              "      <td>1</td>\n",
              "    </tr>\n",
              "    <tr>\n",
              "      <th>1</th>\n",
              "      <td>2019-12-04 02:00:00</td>\n",
              "      <td>248.251</td>\n",
              "      <td>2019</td>\n",
              "      <td>12</td>\n",
              "      <td>4</td>\n",
              "      <td>2</td>\n",
              "    </tr>\n",
              "    <tr>\n",
              "      <th>2</th>\n",
              "      <td>2019-12-04 03:00:00</td>\n",
              "      <td>219.049</td>\n",
              "      <td>2019</td>\n",
              "      <td>12</td>\n",
              "      <td>4</td>\n",
              "      <td>3</td>\n",
              "    </tr>\n",
              "    <tr>\n",
              "      <th>3</th>\n",
              "      <td>2019-12-04 04:00:00</td>\n",
              "      <td>249.788</td>\n",
              "      <td>2019</td>\n",
              "      <td>12</td>\n",
              "      <td>4</td>\n",
              "      <td>4</td>\n",
              "    </tr>\n",
              "    <tr>\n",
              "      <th>4</th>\n",
              "      <td>2019-12-04 05:00:00</td>\n",
              "      <td>235.955</td>\n",
              "      <td>2019</td>\n",
              "      <td>12</td>\n",
              "      <td>4</td>\n",
              "      <td>5</td>\n",
              "    </tr>\n",
              "    <tr>\n",
              "      <th>...</th>\n",
              "      <td>...</td>\n",
              "      <td>...</td>\n",
              "      <td>...</td>\n",
              "      <td>...</td>\n",
              "      <td>...</td>\n",
              "      <td>...</td>\n",
              "    </tr>\n",
              "    <tr>\n",
              "      <th>8034</th>\n",
              "      <td>2020-11-02 19:00:00</td>\n",
              "      <td>0.000</td>\n",
              "      <td>2020</td>\n",
              "      <td>11</td>\n",
              "      <td>2</td>\n",
              "      <td>19</td>\n",
              "    </tr>\n",
              "    <tr>\n",
              "      <th>8035</th>\n",
              "      <td>2020-11-02 20:00:00</td>\n",
              "      <td>0.000</td>\n",
              "      <td>2020</td>\n",
              "      <td>11</td>\n",
              "      <td>2</td>\n",
              "      <td>20</td>\n",
              "    </tr>\n",
              "    <tr>\n",
              "      <th>8036</th>\n",
              "      <td>2020-11-02 21:00:00</td>\n",
              "      <td>113.408</td>\n",
              "      <td>2020</td>\n",
              "      <td>11</td>\n",
              "      <td>2</td>\n",
              "      <td>21</td>\n",
              "    </tr>\n",
              "    <tr>\n",
              "      <th>8037</th>\n",
              "      <td>2020-11-02 22:00:00</td>\n",
              "      <td>0.000</td>\n",
              "      <td>2020</td>\n",
              "      <td>11</td>\n",
              "      <td>2</td>\n",
              "      <td>22</td>\n",
              "    </tr>\n",
              "    <tr>\n",
              "      <th>8038</th>\n",
              "      <td>2020-11-02 23:00:00</td>\n",
              "      <td>0.000</td>\n",
              "      <td>2020</td>\n",
              "      <td>11</td>\n",
              "      <td>2</td>\n",
              "      <td>23</td>\n",
              "    </tr>\n",
              "  </tbody>\n",
              "</table>\n",
              "<p>8039 rows × 6 columns</p>\n",
              "</div>"
            ],
            "text/plain": [
              "               Timestamp  EV_Final  Year  Month  Day  Hour\n",
              "0    2019-12-04 01:00:00     0.000  2019     12    4     1\n",
              "1    2019-12-04 02:00:00   248.251  2019     12    4     2\n",
              "2    2019-12-04 03:00:00   219.049  2019     12    4     3\n",
              "3    2019-12-04 04:00:00   249.788  2019     12    4     4\n",
              "4    2019-12-04 05:00:00   235.955  2019     12    4     5\n",
              "...                  ...       ...   ...    ...  ...   ...\n",
              "8034 2020-11-02 19:00:00     0.000  2020     11    2    19\n",
              "8035 2020-11-02 20:00:00     0.000  2020     11    2    20\n",
              "8036 2020-11-02 21:00:00   113.408  2020     11    2    21\n",
              "8037 2020-11-02 22:00:00     0.000  2020     11    2    22\n",
              "8038 2020-11-02 23:00:00     0.000  2020     11    2    23\n",
              "\n",
              "[8039 rows x 6 columns]"
            ]
          },
          "metadata": {},
          "execution_count": 5
        }
      ]
    },
    {
      "cell_type": "code",
      "metadata": {
        "id": "qOqyxASAqPxR"
      },
      "source": [
        "df=data_main"
      ],
      "execution_count": null,
      "outputs": []
    },
    {
      "cell_type": "code",
      "metadata": {
        "id": "VXs8Eo9_K2nl"
      },
      "source": [
        "#Setting Timestamp as Index\n",
        "df.set_index(\"Timestamp\", inplace=True)"
      ],
      "execution_count": null,
      "outputs": []
    },
    {
      "cell_type": "code",
      "metadata": {
        "id": "tE57YzW8UVpC"
      },
      "source": [
        "df1=df.filter(['EV_Final'], axis=1)"
      ],
      "execution_count": null,
      "outputs": []
    },
    {
      "cell_type": "code",
      "metadata": {
        "colab": {
          "base_uri": "https://localhost:8080/",
          "height": 455
        },
        "id": "3wJgLVtILtJ-",
        "outputId": "5bb742c6-dadc-4ea1-c55e-8d7ba79043d1"
      },
      "source": [
        "df1"
      ],
      "execution_count": null,
      "outputs": [
        {
          "output_type": "execute_result",
          "data": {
            "text/html": [
              "<div>\n",
              "<style scoped>\n",
              "    .dataframe tbody tr th:only-of-type {\n",
              "        vertical-align: middle;\n",
              "    }\n",
              "\n",
              "    .dataframe tbody tr th {\n",
              "        vertical-align: top;\n",
              "    }\n",
              "\n",
              "    .dataframe thead th {\n",
              "        text-align: right;\n",
              "    }\n",
              "</style>\n",
              "<table border=\"1\" class=\"dataframe\">\n",
              "  <thead>\n",
              "    <tr style=\"text-align: right;\">\n",
              "      <th></th>\n",
              "      <th>EV_Final</th>\n",
              "    </tr>\n",
              "    <tr>\n",
              "      <th>Timestamp</th>\n",
              "      <th></th>\n",
              "    </tr>\n",
              "  </thead>\n",
              "  <tbody>\n",
              "    <tr>\n",
              "      <th>2019-12-04 01:00:00</th>\n",
              "      <td>0.000</td>\n",
              "    </tr>\n",
              "    <tr>\n",
              "      <th>2019-12-04 02:00:00</th>\n",
              "      <td>248.251</td>\n",
              "    </tr>\n",
              "    <tr>\n",
              "      <th>2019-12-04 03:00:00</th>\n",
              "      <td>219.049</td>\n",
              "    </tr>\n",
              "    <tr>\n",
              "      <th>2019-12-04 04:00:00</th>\n",
              "      <td>249.788</td>\n",
              "    </tr>\n",
              "    <tr>\n",
              "      <th>2019-12-04 05:00:00</th>\n",
              "      <td>235.955</td>\n",
              "    </tr>\n",
              "    <tr>\n",
              "      <th>...</th>\n",
              "      <td>...</td>\n",
              "    </tr>\n",
              "    <tr>\n",
              "      <th>2020-11-02 19:00:00</th>\n",
              "      <td>0.000</td>\n",
              "    </tr>\n",
              "    <tr>\n",
              "      <th>2020-11-02 20:00:00</th>\n",
              "      <td>0.000</td>\n",
              "    </tr>\n",
              "    <tr>\n",
              "      <th>2020-11-02 21:00:00</th>\n",
              "      <td>113.408</td>\n",
              "    </tr>\n",
              "    <tr>\n",
              "      <th>2020-11-02 22:00:00</th>\n",
              "      <td>0.000</td>\n",
              "    </tr>\n",
              "    <tr>\n",
              "      <th>2020-11-02 23:00:00</th>\n",
              "      <td>0.000</td>\n",
              "    </tr>\n",
              "  </tbody>\n",
              "</table>\n",
              "<p>8039 rows × 1 columns</p>\n",
              "</div>"
            ],
            "text/plain": [
              "                     EV_Final\n",
              "Timestamp                    \n",
              "2019-12-04 01:00:00     0.000\n",
              "2019-12-04 02:00:00   248.251\n",
              "2019-12-04 03:00:00   219.049\n",
              "2019-12-04 04:00:00   249.788\n",
              "2019-12-04 05:00:00   235.955\n",
              "...                       ...\n",
              "2020-11-02 19:00:00     0.000\n",
              "2020-11-02 20:00:00     0.000\n",
              "2020-11-02 21:00:00   113.408\n",
              "2020-11-02 22:00:00     0.000\n",
              "2020-11-02 23:00:00     0.000\n",
              "\n",
              "[8039 rows x 1 columns]"
            ]
          },
          "metadata": {},
          "execution_count": 9
        }
      ]
    },
    {
      "cell_type": "code",
      "metadata": {
        "id": "xSDlRd7Fyu0M"
      },
      "source": [
        "df2=df1.resample('240min').agg({\"EV_Final\":\"sum\"})"
      ],
      "execution_count": null,
      "outputs": []
    },
    {
      "cell_type": "code",
      "metadata": {
        "colab": {
          "base_uri": "https://localhost:8080/",
          "height": 455
        },
        "id": "uazCGFWT06gd",
        "outputId": "1ef4c819-929c-4630-caa5-24d258631ba1"
      },
      "source": [
        "df2"
      ],
      "execution_count": null,
      "outputs": [
        {
          "output_type": "execute_result",
          "data": {
            "text/html": [
              "<div>\n",
              "<style scoped>\n",
              "    .dataframe tbody tr th:only-of-type {\n",
              "        vertical-align: middle;\n",
              "    }\n",
              "\n",
              "    .dataframe tbody tr th {\n",
              "        vertical-align: top;\n",
              "    }\n",
              "\n",
              "    .dataframe thead th {\n",
              "        text-align: right;\n",
              "    }\n",
              "</style>\n",
              "<table border=\"1\" class=\"dataframe\">\n",
              "  <thead>\n",
              "    <tr style=\"text-align: right;\">\n",
              "      <th></th>\n",
              "      <th>EV_Final</th>\n",
              "    </tr>\n",
              "    <tr>\n",
              "      <th>Timestamp</th>\n",
              "      <th></th>\n",
              "    </tr>\n",
              "  </thead>\n",
              "  <tbody>\n",
              "    <tr>\n",
              "      <th>2019-12-04 00:00:00</th>\n",
              "      <td>467.300</td>\n",
              "    </tr>\n",
              "    <tr>\n",
              "      <th>2019-12-04 04:00:00</th>\n",
              "      <td>926.915</td>\n",
              "    </tr>\n",
              "    <tr>\n",
              "      <th>2019-12-04 08:00:00</th>\n",
              "      <td>934.598</td>\n",
              "    </tr>\n",
              "    <tr>\n",
              "      <th>2019-12-04 12:00:00</th>\n",
              "      <td>1474.866</td>\n",
              "    </tr>\n",
              "    <tr>\n",
              "      <th>2019-12-04 16:00:00</th>\n",
              "      <td>945.358</td>\n",
              "    </tr>\n",
              "    <tr>\n",
              "      <th>...</th>\n",
              "      <td>...</td>\n",
              "    </tr>\n",
              "    <tr>\n",
              "      <th>2020-11-02 04:00:00</th>\n",
              "      <td>1129.705</td>\n",
              "    </tr>\n",
              "    <tr>\n",
              "      <th>2020-11-02 08:00:00</th>\n",
              "      <td>1104.993</td>\n",
              "    </tr>\n",
              "    <tr>\n",
              "      <th>2020-11-02 12:00:00</th>\n",
              "      <td>0.000</td>\n",
              "    </tr>\n",
              "    <tr>\n",
              "      <th>2020-11-02 16:00:00</th>\n",
              "      <td>1129.706</td>\n",
              "    </tr>\n",
              "    <tr>\n",
              "      <th>2020-11-02 20:00:00</th>\n",
              "      <td>113.408</td>\n",
              "    </tr>\n",
              "  </tbody>\n",
              "</table>\n",
              "<p>2010 rows × 1 columns</p>\n",
              "</div>"
            ],
            "text/plain": [
              "                     EV_Final\n",
              "Timestamp                    \n",
              "2019-12-04 00:00:00   467.300\n",
              "2019-12-04 04:00:00   926.915\n",
              "2019-12-04 08:00:00   934.598\n",
              "2019-12-04 12:00:00  1474.866\n",
              "2019-12-04 16:00:00   945.358\n",
              "...                       ...\n",
              "2020-11-02 04:00:00  1129.705\n",
              "2020-11-02 08:00:00  1104.993\n",
              "2020-11-02 12:00:00     0.000\n",
              "2020-11-02 16:00:00  1129.706\n",
              "2020-11-02 20:00:00   113.408\n",
              "\n",
              "[2010 rows x 1 columns]"
            ]
          },
          "metadata": {},
          "execution_count": 11
        }
      ]
    },
    {
      "cell_type": "code",
      "metadata": {
        "id": "kU6ejupyz9vo"
      },
      "source": [
        "df2[\"EV_lag_1\"] = df2[\"EV_Final\"].shift(-1)\n",
        "df2[\"EV_lag_2\"] = df2[\"EV_Final\"].shift(-2)\n",
        "df2[\"EV_lag_3\"] = df2[\"EV_Final\"].shift(-3)\n",
        "df2[\"EV_lag_4\"] = df2[\"EV_Final\"].shift(-4)\n",
        "df2[\"EV_lag_5\"] = df2[\"EV_Final\"].shift(-5)\n",
        "df2[\"EV_lag_6\"] = df2[\"EV_Final\"].shift(-6)"
      ],
      "execution_count": null,
      "outputs": []
    },
    {
      "cell_type": "code",
      "metadata": {
        "id": "8AqQiW3W1S2Y"
      },
      "source": [
        "df2=df2.reset_index()"
      ],
      "execution_count": null,
      "outputs": []
    },
    {
      "cell_type": "code",
      "metadata": {
        "colab": {
          "base_uri": "https://localhost:8080/",
          "height": 423
        },
        "id": "hy0mE23Mziib",
        "outputId": "3d10297e-0f3c-425f-c747-1d9f096d9538"
      },
      "source": [
        "# We have every 4hours of data ready now\n",
        "df3=df2.filter(['EV_Final','EV_lag_1','EV_lag_2','EV_lag_3','EV_lag_4','EV_lag_5','EV_lag_6'], axis=1)\n",
        "df3"
      ],
      "execution_count": null,
      "outputs": [
        {
          "output_type": "execute_result",
          "data": {
            "text/html": [
              "<div>\n",
              "<style scoped>\n",
              "    .dataframe tbody tr th:only-of-type {\n",
              "        vertical-align: middle;\n",
              "    }\n",
              "\n",
              "    .dataframe tbody tr th {\n",
              "        vertical-align: top;\n",
              "    }\n",
              "\n",
              "    .dataframe thead th {\n",
              "        text-align: right;\n",
              "    }\n",
              "</style>\n",
              "<table border=\"1\" class=\"dataframe\">\n",
              "  <thead>\n",
              "    <tr style=\"text-align: right;\">\n",
              "      <th></th>\n",
              "      <th>EV_Final</th>\n",
              "      <th>EV_lag_1</th>\n",
              "      <th>EV_lag_2</th>\n",
              "      <th>EV_lag_3</th>\n",
              "      <th>EV_lag_4</th>\n",
              "      <th>EV_lag_5</th>\n",
              "      <th>EV_lag_6</th>\n",
              "    </tr>\n",
              "  </thead>\n",
              "  <tbody>\n",
              "    <tr>\n",
              "      <th>0</th>\n",
              "      <td>467.300</td>\n",
              "      <td>926.915</td>\n",
              "      <td>934.598</td>\n",
              "      <td>1474.866</td>\n",
              "      <td>945.358</td>\n",
              "      <td>4659.243</td>\n",
              "      <td>1165.945</td>\n",
              "    </tr>\n",
              "    <tr>\n",
              "      <th>1</th>\n",
              "      <td>926.915</td>\n",
              "      <td>934.598</td>\n",
              "      <td>1474.866</td>\n",
              "      <td>945.358</td>\n",
              "      <td>4659.243</td>\n",
              "      <td>1165.945</td>\n",
              "      <td>911.545</td>\n",
              "    </tr>\n",
              "    <tr>\n",
              "      <th>2</th>\n",
              "      <td>934.598</td>\n",
              "      <td>1474.866</td>\n",
              "      <td>945.358</td>\n",
              "      <td>4659.243</td>\n",
              "      <td>1165.945</td>\n",
              "      <td>911.545</td>\n",
              "      <td>1170.556</td>\n",
              "    </tr>\n",
              "    <tr>\n",
              "      <th>3</th>\n",
              "      <td>1474.866</td>\n",
              "      <td>945.358</td>\n",
              "      <td>4659.243</td>\n",
              "      <td>1165.945</td>\n",
              "      <td>911.545</td>\n",
              "      <td>1170.556</td>\n",
              "      <td>1150.575</td>\n",
              "    </tr>\n",
              "    <tr>\n",
              "      <th>4</th>\n",
              "      <td>945.358</td>\n",
              "      <td>4659.243</td>\n",
              "      <td>1165.945</td>\n",
              "      <td>911.545</td>\n",
              "      <td>1170.556</td>\n",
              "      <td>1150.575</td>\n",
              "      <td>911.547</td>\n",
              "    </tr>\n",
              "    <tr>\n",
              "      <th>...</th>\n",
              "      <td>...</td>\n",
              "      <td>...</td>\n",
              "      <td>...</td>\n",
              "      <td>...</td>\n",
              "      <td>...</td>\n",
              "      <td>...</td>\n",
              "      <td>...</td>\n",
              "    </tr>\n",
              "    <tr>\n",
              "      <th>2005</th>\n",
              "      <td>1129.705</td>\n",
              "      <td>1104.993</td>\n",
              "      <td>0.000</td>\n",
              "      <td>1129.706</td>\n",
              "      <td>113.408</td>\n",
              "      <td>NaN</td>\n",
              "      <td>NaN</td>\n",
              "    </tr>\n",
              "    <tr>\n",
              "      <th>2006</th>\n",
              "      <td>1104.993</td>\n",
              "      <td>0.000</td>\n",
              "      <td>1129.706</td>\n",
              "      <td>113.408</td>\n",
              "      <td>NaN</td>\n",
              "      <td>NaN</td>\n",
              "      <td>NaN</td>\n",
              "    </tr>\n",
              "    <tr>\n",
              "      <th>2007</th>\n",
              "      <td>0.000</td>\n",
              "      <td>1129.706</td>\n",
              "      <td>113.408</td>\n",
              "      <td>NaN</td>\n",
              "      <td>NaN</td>\n",
              "      <td>NaN</td>\n",
              "      <td>NaN</td>\n",
              "    </tr>\n",
              "    <tr>\n",
              "      <th>2008</th>\n",
              "      <td>1129.706</td>\n",
              "      <td>113.408</td>\n",
              "      <td>NaN</td>\n",
              "      <td>NaN</td>\n",
              "      <td>NaN</td>\n",
              "      <td>NaN</td>\n",
              "      <td>NaN</td>\n",
              "    </tr>\n",
              "    <tr>\n",
              "      <th>2009</th>\n",
              "      <td>113.408</td>\n",
              "      <td>NaN</td>\n",
              "      <td>NaN</td>\n",
              "      <td>NaN</td>\n",
              "      <td>NaN</td>\n",
              "      <td>NaN</td>\n",
              "      <td>NaN</td>\n",
              "    </tr>\n",
              "  </tbody>\n",
              "</table>\n",
              "<p>2010 rows × 7 columns</p>\n",
              "</div>"
            ],
            "text/plain": [
              "      EV_Final  EV_lag_1  EV_lag_2  EV_lag_3  EV_lag_4  EV_lag_5  EV_lag_6\n",
              "0      467.300   926.915   934.598  1474.866   945.358  4659.243  1165.945\n",
              "1      926.915   934.598  1474.866   945.358  4659.243  1165.945   911.545\n",
              "2      934.598  1474.866   945.358  4659.243  1165.945   911.545  1170.556\n",
              "3     1474.866   945.358  4659.243  1165.945   911.545  1170.556  1150.575\n",
              "4      945.358  4659.243  1165.945   911.545  1170.556  1150.575   911.547\n",
              "...        ...       ...       ...       ...       ...       ...       ...\n",
              "2005  1129.705  1104.993     0.000  1129.706   113.408       NaN       NaN\n",
              "2006  1104.993     0.000  1129.706   113.408       NaN       NaN       NaN\n",
              "2007     0.000  1129.706   113.408       NaN       NaN       NaN       NaN\n",
              "2008  1129.706   113.408       NaN       NaN       NaN       NaN       NaN\n",
              "2009   113.408       NaN       NaN       NaN       NaN       NaN       NaN\n",
              "\n",
              "[2010 rows x 7 columns]"
            ]
          },
          "metadata": {},
          "execution_count": 14
        }
      ]
    },
    {
      "cell_type": "code",
      "metadata": {
        "id": "KCcWN5Nj5NEw"
      },
      "source": [
        "df3.drop(df3.tail(6).index,inplace = True)"
      ],
      "execution_count": null,
      "outputs": []
    },
    {
      "cell_type": "code",
      "metadata": {
        "colab": {
          "base_uri": "https://localhost:8080/",
          "height": 423
        },
        "id": "Al3cvX-M5oM5",
        "outputId": "26429e61-9cdf-4d3b-a9f3-15f150da2a79"
      },
      "source": [
        "#df3 is our final dataset we need to use to predict the next days first 4 hours of charging\n",
        "df3\n"
      ],
      "execution_count": null,
      "outputs": [
        {
          "output_type": "execute_result",
          "data": {
            "text/html": [
              "<div>\n",
              "<style scoped>\n",
              "    .dataframe tbody tr th:only-of-type {\n",
              "        vertical-align: middle;\n",
              "    }\n",
              "\n",
              "    .dataframe tbody tr th {\n",
              "        vertical-align: top;\n",
              "    }\n",
              "\n",
              "    .dataframe thead th {\n",
              "        text-align: right;\n",
              "    }\n",
              "</style>\n",
              "<table border=\"1\" class=\"dataframe\">\n",
              "  <thead>\n",
              "    <tr style=\"text-align: right;\">\n",
              "      <th></th>\n",
              "      <th>EV_Final</th>\n",
              "      <th>EV_lag_1</th>\n",
              "      <th>EV_lag_2</th>\n",
              "      <th>EV_lag_3</th>\n",
              "      <th>EV_lag_4</th>\n",
              "      <th>EV_lag_5</th>\n",
              "      <th>EV_lag_6</th>\n",
              "    </tr>\n",
              "  </thead>\n",
              "  <tbody>\n",
              "    <tr>\n",
              "      <th>0</th>\n",
              "      <td>467.300</td>\n",
              "      <td>926.915</td>\n",
              "      <td>934.598</td>\n",
              "      <td>1474.866</td>\n",
              "      <td>945.358</td>\n",
              "      <td>4659.243</td>\n",
              "      <td>1165.945</td>\n",
              "    </tr>\n",
              "    <tr>\n",
              "      <th>1</th>\n",
              "      <td>926.915</td>\n",
              "      <td>934.598</td>\n",
              "      <td>1474.866</td>\n",
              "      <td>945.358</td>\n",
              "      <td>4659.243</td>\n",
              "      <td>1165.945</td>\n",
              "      <td>911.545</td>\n",
              "    </tr>\n",
              "    <tr>\n",
              "      <th>2</th>\n",
              "      <td>934.598</td>\n",
              "      <td>1474.866</td>\n",
              "      <td>945.358</td>\n",
              "      <td>4659.243</td>\n",
              "      <td>1165.945</td>\n",
              "      <td>911.545</td>\n",
              "      <td>1170.556</td>\n",
              "    </tr>\n",
              "    <tr>\n",
              "      <th>3</th>\n",
              "      <td>1474.866</td>\n",
              "      <td>945.358</td>\n",
              "      <td>4659.243</td>\n",
              "      <td>1165.945</td>\n",
              "      <td>911.545</td>\n",
              "      <td>1170.556</td>\n",
              "      <td>1150.575</td>\n",
              "    </tr>\n",
              "    <tr>\n",
              "      <th>4</th>\n",
              "      <td>945.358</td>\n",
              "      <td>4659.243</td>\n",
              "      <td>1165.945</td>\n",
              "      <td>911.545</td>\n",
              "      <td>1170.556</td>\n",
              "      <td>1150.575</td>\n",
              "      <td>911.547</td>\n",
              "    </tr>\n",
              "    <tr>\n",
              "      <th>...</th>\n",
              "      <td>...</td>\n",
              "      <td>...</td>\n",
              "      <td>...</td>\n",
              "      <td>...</td>\n",
              "      <td>...</td>\n",
              "      <td>...</td>\n",
              "      <td>...</td>\n",
              "    </tr>\n",
              "    <tr>\n",
              "      <th>1999</th>\n",
              "      <td>1152.874</td>\n",
              "      <td>0.000</td>\n",
              "      <td>1206.933</td>\n",
              "      <td>1313.506</td>\n",
              "      <td>1108.082</td>\n",
              "      <td>0.000</td>\n",
              "      <td>1129.705</td>\n",
              "    </tr>\n",
              "    <tr>\n",
              "      <th>2000</th>\n",
              "      <td>0.000</td>\n",
              "      <td>1206.933</td>\n",
              "      <td>1313.506</td>\n",
              "      <td>1108.082</td>\n",
              "      <td>0.000</td>\n",
              "      <td>1129.705</td>\n",
              "      <td>1104.993</td>\n",
              "    </tr>\n",
              "    <tr>\n",
              "      <th>2001</th>\n",
              "      <td>1206.933</td>\n",
              "      <td>1313.506</td>\n",
              "      <td>1108.082</td>\n",
              "      <td>0.000</td>\n",
              "      <td>1129.705</td>\n",
              "      <td>1104.993</td>\n",
              "      <td>0.000</td>\n",
              "    </tr>\n",
              "    <tr>\n",
              "      <th>2002</th>\n",
              "      <td>1313.506</td>\n",
              "      <td>1108.082</td>\n",
              "      <td>0.000</td>\n",
              "      <td>1129.705</td>\n",
              "      <td>1104.993</td>\n",
              "      <td>0.000</td>\n",
              "      <td>1129.706</td>\n",
              "    </tr>\n",
              "    <tr>\n",
              "      <th>2003</th>\n",
              "      <td>1108.082</td>\n",
              "      <td>0.000</td>\n",
              "      <td>1129.705</td>\n",
              "      <td>1104.993</td>\n",
              "      <td>0.000</td>\n",
              "      <td>1129.706</td>\n",
              "      <td>113.408</td>\n",
              "    </tr>\n",
              "  </tbody>\n",
              "</table>\n",
              "<p>2004 rows × 7 columns</p>\n",
              "</div>"
            ],
            "text/plain": [
              "      EV_Final  EV_lag_1  EV_lag_2  EV_lag_3  EV_lag_4  EV_lag_5  EV_lag_6\n",
              "0      467.300   926.915   934.598  1474.866   945.358  4659.243  1165.945\n",
              "1      926.915   934.598  1474.866   945.358  4659.243  1165.945   911.545\n",
              "2      934.598  1474.866   945.358  4659.243  1165.945   911.545  1170.556\n",
              "3     1474.866   945.358  4659.243  1165.945   911.545  1170.556  1150.575\n",
              "4      945.358  4659.243  1165.945   911.545  1170.556  1150.575   911.547\n",
              "...        ...       ...       ...       ...       ...       ...       ...\n",
              "1999  1152.874     0.000  1206.933  1313.506  1108.082     0.000  1129.705\n",
              "2000     0.000  1206.933  1313.506  1108.082     0.000  1129.705  1104.993\n",
              "2001  1206.933  1313.506  1108.082     0.000  1129.705  1104.993     0.000\n",
              "2002  1313.506  1108.082     0.000  1129.705  1104.993     0.000  1129.706\n",
              "2003  1108.082     0.000  1129.705  1104.993     0.000  1129.706   113.408\n",
              "\n",
              "[2004 rows x 7 columns]"
            ]
          },
          "metadata": {},
          "execution_count": 16
        }
      ]
    },
    {
      "cell_type": "code",
      "metadata": {
        "id": "ctbmJudq63W5"
      },
      "source": [
        "train=df3[0:1900]\n",
        "test=df3[1900:2004]"
      ],
      "execution_count": null,
      "outputs": []
    },
    {
      "cell_type": "code",
      "metadata": {
        "id": "t3fNRB42VU8q"
      },
      "source": [
        "train_X=train[['EV_Final','EV_lag_1','EV_lag_2','EV_lag_3','EV_lag_4','EV_lag_5']]"
      ],
      "execution_count": null,
      "outputs": []
    },
    {
      "cell_type": "code",
      "metadata": {
        "id": "wZCFV6fLS57S"
      },
      "source": [
        "train_X=train[['EV_Final','EV_lag_1','EV_lag_2','EV_lag_3','EV_lag_4','EV_lag_5']]\n",
        "train_y=train[['EV_lag_6']]\n",
        "test_X=test[['EV_Final','EV_lag_1','EV_lag_2','EV_lag_3','EV_lag_4','EV_lag_5']]\n",
        "test_y=test[['EV_lag_6']]"
      ],
      "execution_count": null,
      "outputs": []
    },
    {
      "cell_type": "code",
      "metadata": {
        "id": "IY8IPc6KBeXv"
      },
      "source": [
        "#Scaling has to be done for LSTM\n",
        "from sklearn.preprocessing import StandardScaler\n",
        "sc = StandardScaler()\n",
        "sc2= StandardScaler()\n",
        "train_X_sc=sc.fit_transform(train_X)\n",
        "train_y_sc=sc2.fit_transform(train_y)\n",
        "test_X_sc=sc.transform(test_X)\n",
        "test_y_sc=X_test = sc2.transform(test_y)"
      ],
      "execution_count": null,
      "outputs": []
    },
    {
      "cell_type": "code",
      "metadata": {
        "id": "QzDYbJamE334"
      },
      "source": [
        "train_X_sc = pd.DataFrame(train_X_sc)\n",
        "train_y_sc = pd.DataFrame(train_y_sc)\n",
        "test_X_sc = pd.DataFrame(test_X_sc)\n",
        "test_y_sc = pd.DataFrame(test_y_sc)\n",
        "\n"
      ],
      "execution_count": null,
      "outputs": []
    },
    {
      "cell_type": "code",
      "metadata": {
        "colab": {
          "base_uri": "https://localhost:8080/"
        },
        "id": "2AT7rw1ZI3st",
        "outputId": "177d29be-0b8a-44dc-8367-53f988470cc4"
      },
      "source": [
        "# create and fit the LSTM network 1\n",
        "model = Sequential()\n",
        "model.add(LSTM(6, input_shape=(6,1)))\n",
        "model.add(Dense(1))\n",
        "model.compile(loss='mean_squared_error', optimizer='adam')\n",
        "model.fit(train_X_sc, train_y_sc, epochs=100, batch_size=1, verbose=2)"
      ],
      "execution_count": null,
      "outputs": [
        {
          "output_type": "stream",
          "name": "stdout",
          "text": [
            "Epoch 1/100\n",
            "1900/1900 - 5s - loss: 0.9783 - 5s/epoch - 3ms/step\n",
            "Epoch 2/100\n",
            "1900/1900 - 4s - loss: 0.9302 - 4s/epoch - 2ms/step\n",
            "Epoch 3/100\n",
            "1900/1900 - 4s - loss: 0.9267 - 4s/epoch - 2ms/step\n",
            "Epoch 4/100\n",
            "1900/1900 - 4s - loss: 0.9253 - 4s/epoch - 2ms/step\n",
            "Epoch 5/100\n",
            "1900/1900 - 4s - loss: 0.9230 - 4s/epoch - 2ms/step\n",
            "Epoch 6/100\n",
            "1900/1900 - 4s - loss: 0.9217 - 4s/epoch - 2ms/step\n",
            "Epoch 7/100\n",
            "1900/1900 - 4s - loss: 0.9181 - 4s/epoch - 2ms/step\n",
            "Epoch 8/100\n",
            "1900/1900 - 4s - loss: 0.9190 - 4s/epoch - 2ms/step\n",
            "Epoch 9/100\n",
            "1900/1900 - 4s - loss: 0.9174 - 4s/epoch - 2ms/step\n",
            "Epoch 10/100\n",
            "1900/1900 - 4s - loss: 0.9161 - 4s/epoch - 2ms/step\n",
            "Epoch 11/100\n",
            "1900/1900 - 4s - loss: 0.9153 - 4s/epoch - 2ms/step\n",
            "Epoch 12/100\n",
            "1900/1900 - 4s - loss: 0.9139 - 4s/epoch - 2ms/step\n",
            "Epoch 13/100\n",
            "1900/1900 - 4s - loss: 0.9129 - 4s/epoch - 2ms/step\n",
            "Epoch 14/100\n",
            "1900/1900 - 4s - loss: 0.9129 - 4s/epoch - 2ms/step\n",
            "Epoch 15/100\n",
            "1900/1900 - 4s - loss: 0.9102 - 4s/epoch - 2ms/step\n",
            "Epoch 16/100\n",
            "1900/1900 - 4s - loss: 0.9109 - 4s/epoch - 2ms/step\n",
            "Epoch 17/100\n",
            "1900/1900 - 4s - loss: 0.9098 - 4s/epoch - 2ms/step\n",
            "Epoch 18/100\n",
            "1900/1900 - 4s - loss: 0.9088 - 4s/epoch - 2ms/step\n",
            "Epoch 19/100\n",
            "1900/1900 - 4s - loss: 0.9069 - 4s/epoch - 2ms/step\n",
            "Epoch 20/100\n",
            "1900/1900 - 4s - loss: 0.9042 - 4s/epoch - 2ms/step\n",
            "Epoch 21/100\n",
            "1900/1900 - 4s - loss: 0.9069 - 4s/epoch - 2ms/step\n",
            "Epoch 22/100\n",
            "1900/1900 - 4s - loss: 0.9050 - 4s/epoch - 2ms/step\n",
            "Epoch 23/100\n",
            "1900/1900 - 4s - loss: 0.9046 - 4s/epoch - 2ms/step\n",
            "Epoch 24/100\n",
            "1900/1900 - 4s - loss: 0.9048 - 4s/epoch - 2ms/step\n",
            "Epoch 25/100\n",
            "1900/1900 - 4s - loss: 0.9036 - 4s/epoch - 2ms/step\n",
            "Epoch 26/100\n",
            "1900/1900 - 4s - loss: 0.9031 - 4s/epoch - 2ms/step\n",
            "Epoch 27/100\n",
            "1900/1900 - 4s - loss: 0.9022 - 4s/epoch - 2ms/step\n",
            "Epoch 28/100\n",
            "1900/1900 - 4s - loss: 0.9015 - 4s/epoch - 2ms/step\n",
            "Epoch 29/100\n",
            "1900/1900 - 4s - loss: 0.9030 - 4s/epoch - 2ms/step\n",
            "Epoch 30/100\n",
            "1900/1900 - 4s - loss: 0.9018 - 4s/epoch - 2ms/step\n",
            "Epoch 31/100\n",
            "1900/1900 - 4s - loss: 0.8997 - 4s/epoch - 2ms/step\n",
            "Epoch 32/100\n",
            "1900/1900 - 4s - loss: 0.9000 - 4s/epoch - 2ms/step\n",
            "Epoch 33/100\n",
            "1900/1900 - 4s - loss: 0.8997 - 4s/epoch - 2ms/step\n",
            "Epoch 34/100\n",
            "1900/1900 - 4s - loss: 0.8994 - 4s/epoch - 2ms/step\n",
            "Epoch 35/100\n",
            "1900/1900 - 4s - loss: 0.8972 - 4s/epoch - 2ms/step\n",
            "Epoch 36/100\n",
            "1900/1900 - 4s - loss: 0.8952 - 4s/epoch - 2ms/step\n",
            "Epoch 37/100\n",
            "1900/1900 - 4s - loss: 0.8926 - 4s/epoch - 2ms/step\n",
            "Epoch 38/100\n",
            "1900/1900 - 4s - loss: 0.8977 - 4s/epoch - 2ms/step\n",
            "Epoch 39/100\n",
            "1900/1900 - 4s - loss: 0.8947 - 4s/epoch - 2ms/step\n",
            "Epoch 40/100\n",
            "1900/1900 - 4s - loss: 0.8949 - 4s/epoch - 2ms/step\n",
            "Epoch 41/100\n",
            "1900/1900 - 4s - loss: 0.8942 - 4s/epoch - 2ms/step\n",
            "Epoch 42/100\n",
            "1900/1900 - 4s - loss: 0.8930 - 4s/epoch - 2ms/step\n",
            "Epoch 43/100\n",
            "1900/1900 - 4s - loss: 0.8922 - 4s/epoch - 2ms/step\n",
            "Epoch 44/100\n",
            "1900/1900 - 4s - loss: 0.8905 - 4s/epoch - 2ms/step\n",
            "Epoch 45/100\n",
            "1900/1900 - 4s - loss: 0.8900 - 4s/epoch - 2ms/step\n",
            "Epoch 46/100\n",
            "1900/1900 - 4s - loss: 0.8886 - 4s/epoch - 2ms/step\n",
            "Epoch 47/100\n",
            "1900/1900 - 4s - loss: 0.8897 - 4s/epoch - 2ms/step\n",
            "Epoch 48/100\n",
            "1900/1900 - 4s - loss: 0.8882 - 4s/epoch - 2ms/step\n",
            "Epoch 49/100\n",
            "1900/1900 - 4s - loss: 0.8855 - 4s/epoch - 2ms/step\n",
            "Epoch 50/100\n",
            "1900/1900 - 4s - loss: 0.8861 - 4s/epoch - 2ms/step\n",
            "Epoch 51/100\n",
            "1900/1900 - 4s - loss: 0.8864 - 4s/epoch - 2ms/step\n",
            "Epoch 52/100\n",
            "1900/1900 - 4s - loss: 0.8830 - 4s/epoch - 2ms/step\n",
            "Epoch 53/100\n",
            "1900/1900 - 4s - loss: 0.8860 - 4s/epoch - 2ms/step\n",
            "Epoch 54/100\n",
            "1900/1900 - 4s - loss: 0.8861 - 4s/epoch - 2ms/step\n",
            "Epoch 55/100\n",
            "1900/1900 - 4s - loss: 0.8844 - 4s/epoch - 2ms/step\n",
            "Epoch 56/100\n",
            "1900/1900 - 4s - loss: 0.8808 - 4s/epoch - 2ms/step\n",
            "Epoch 57/100\n",
            "1900/1900 - 4s - loss: 0.8816 - 4s/epoch - 2ms/step\n",
            "Epoch 58/100\n",
            "1900/1900 - 4s - loss: 0.8832 - 4s/epoch - 2ms/step\n",
            "Epoch 59/100\n",
            "1900/1900 - 4s - loss: 0.8816 - 4s/epoch - 2ms/step\n",
            "Epoch 60/100\n",
            "1900/1900 - 4s - loss: 0.8811 - 4s/epoch - 2ms/step\n",
            "Epoch 61/100\n",
            "1900/1900 - 4s - loss: 0.8799 - 4s/epoch - 2ms/step\n",
            "Epoch 62/100\n",
            "1900/1900 - 4s - loss: 0.8804 - 4s/epoch - 2ms/step\n",
            "Epoch 63/100\n",
            "1900/1900 - 4s - loss: 0.8796 - 4s/epoch - 2ms/step\n",
            "Epoch 64/100\n",
            "1900/1900 - 4s - loss: 0.8807 - 4s/epoch - 2ms/step\n",
            "Epoch 65/100\n",
            "1900/1900 - 4s - loss: 0.8737 - 4s/epoch - 2ms/step\n",
            "Epoch 66/100\n",
            "1900/1900 - 4s - loss: 0.8799 - 4s/epoch - 2ms/step\n",
            "Epoch 67/100\n",
            "1900/1900 - 4s - loss: 0.8699 - 4s/epoch - 2ms/step\n",
            "Epoch 68/100\n",
            "1900/1900 - 4s - loss: 0.8793 - 4s/epoch - 2ms/step\n",
            "Epoch 69/100\n",
            "1900/1900 - 4s - loss: 0.8775 - 4s/epoch - 2ms/step\n",
            "Epoch 70/100\n",
            "1900/1900 - 4s - loss: 0.8747 - 4s/epoch - 2ms/step\n",
            "Epoch 71/100\n",
            "1900/1900 - 4s - loss: 0.8718 - 4s/epoch - 2ms/step\n",
            "Epoch 72/100\n",
            "1900/1900 - 4s - loss: 0.8732 - 4s/epoch - 2ms/step\n",
            "Epoch 73/100\n",
            "1900/1900 - 4s - loss: 0.8752 - 4s/epoch - 2ms/step\n",
            "Epoch 74/100\n",
            "1900/1900 - 4s - loss: 0.8733 - 4s/epoch - 2ms/step\n",
            "Epoch 75/100\n",
            "1900/1900 - 4s - loss: 0.8668 - 4s/epoch - 2ms/step\n",
            "Epoch 76/100\n",
            "1900/1900 - 4s - loss: 0.8701 - 4s/epoch - 2ms/step\n",
            "Epoch 77/100\n",
            "1900/1900 - 4s - loss: 0.8689 - 4s/epoch - 2ms/step\n",
            "Epoch 78/100\n",
            "1900/1900 - 4s - loss: 0.8640 - 4s/epoch - 2ms/step\n",
            "Epoch 79/100\n",
            "1900/1900 - 4s - loss: 0.8722 - 4s/epoch - 2ms/step\n",
            "Epoch 80/100\n",
            "1900/1900 - 4s - loss: 0.8713 - 4s/epoch - 2ms/step\n",
            "Epoch 81/100\n",
            "1900/1900 - 4s - loss: 0.8613 - 4s/epoch - 2ms/step\n",
            "Epoch 82/100\n",
            "1900/1900 - 4s - loss: 0.8705 - 4s/epoch - 2ms/step\n",
            "Epoch 83/100\n",
            "1900/1900 - 4s - loss: 0.8619 - 4s/epoch - 2ms/step\n",
            "Epoch 84/100\n",
            "1900/1900 - 4s - loss: 0.8660 - 4s/epoch - 2ms/step\n",
            "Epoch 85/100\n",
            "1900/1900 - 4s - loss: 0.8658 - 4s/epoch - 2ms/step\n",
            "Epoch 86/100\n",
            "1900/1900 - 4s - loss: 0.8654 - 4s/epoch - 2ms/step\n",
            "Epoch 87/100\n",
            "1900/1900 - 4s - loss: 0.8560 - 4s/epoch - 2ms/step\n",
            "Epoch 88/100\n",
            "1900/1900 - 4s - loss: 0.8555 - 4s/epoch - 2ms/step\n",
            "Epoch 89/100\n",
            "1900/1900 - 4s - loss: 0.8587 - 4s/epoch - 2ms/step\n",
            "Epoch 90/100\n",
            "1900/1900 - 4s - loss: 0.8604 - 4s/epoch - 2ms/step\n",
            "Epoch 91/100\n",
            "1900/1900 - 4s - loss: 0.8575 - 4s/epoch - 2ms/step\n",
            "Epoch 92/100\n",
            "1900/1900 - 4s - loss: 0.8583 - 4s/epoch - 2ms/step\n",
            "Epoch 93/100\n",
            "1900/1900 - 4s - loss: 0.8565 - 4s/epoch - 2ms/step\n",
            "Epoch 94/100\n",
            "1900/1900 - 4s - loss: 0.8572 - 4s/epoch - 2ms/step\n",
            "Epoch 95/100\n",
            "1900/1900 - 4s - loss: 0.8593 - 4s/epoch - 2ms/step\n",
            "Epoch 96/100\n",
            "1900/1900 - 4s - loss: 0.8568 - 4s/epoch - 2ms/step\n",
            "Epoch 97/100\n",
            "1900/1900 - 4s - loss: 0.8588 - 4s/epoch - 2ms/step\n",
            "Epoch 98/100\n",
            "1900/1900 - 4s - loss: 0.8616 - 4s/epoch - 2ms/step\n",
            "Epoch 99/100\n",
            "1900/1900 - 4s - loss: 0.8567 - 4s/epoch - 2ms/step\n",
            "Epoch 100/100\n",
            "1900/1900 - 4s - loss: 0.8522 - 4s/epoch - 2ms/step\n"
          ]
        },
        {
          "output_type": "execute_result",
          "data": {
            "text/plain": [
              "<keras.callbacks.History at 0x7f84069c1850>"
            ]
          },
          "metadata": {},
          "execution_count": 150
        }
      ]
    },
    {
      "cell_type": "code",
      "metadata": {
        "id": "oRmnu2d3I3dH"
      },
      "source": [
        "# make predictions\n",
        "trainPredict = pd.DataFrame(model.predict(train_X_sc))\n",
        "testPredict = pd.DataFrame(model.predict(test_X_sc))"
      ],
      "execution_count": null,
      "outputs": []
    },
    {
      "cell_type": "code",
      "metadata": {
        "id": "mLzoIMy5XN8i"
      },
      "source": [
        "# invert predictions\n",
        "trainPredict = sc2.inverse_transform(trainPredict)\n",
        "testPredict = sc2.inverse_transform(testPredict)"
      ],
      "execution_count": null,
      "outputs": []
    },
    {
      "cell_type": "code",
      "metadata": {
        "id": "QhPO4xJjYBmO"
      },
      "source": [
        "trainPredict = pd.DataFrame(trainPredict)\n",
        "testPredict = pd.DataFrame(testPredict)"
      ],
      "execution_count": null,
      "outputs": []
    },
    {
      "cell_type": "code",
      "metadata": {
        "id": "r01_0pp0ZF3U"
      },
      "source": [
        "#invert train y and test y\n",
        "train_y_plot = pd.DataFrame(sc2.inverse_transform(train_y_sc))\n",
        "test_y_plot = pd.DataFrame(sc2.inverse_transform(test_y_sc))"
      ],
      "execution_count": null,
      "outputs": []
    },
    {
      "cell_type": "code",
      "metadata": {
        "colab": {
          "base_uri": "https://localhost:8080/"
        },
        "id": "7hG4jxOBKj86",
        "outputId": "1ee5b23e-439c-4b2f-ba51-212d53bc81b1"
      },
      "source": [
        "trainScore = math.sqrt(mean_squared_error(train_y_plot, trainPredict))\n",
        "print('Train Score: %.2f RMSE' % (trainScore))\n",
        "testScore = math.sqrt(mean_squared_error(test_y_plot, testPredict))\n",
        "print('Test Score: %.2f RMSE' % (testScore))"
      ],
      "execution_count": null,
      "outputs": [
        {
          "output_type": "stream",
          "name": "stdout",
          "text": [
            "Train Score: 1412.13 RMSE\n",
            "Test Score: 5336.44 RMSE\n"
          ]
        }
      ]
    },
    {
      "cell_type": "code",
      "metadata": {
        "id": "xaLvxVmhLwnv"
      },
      "source": [
        "from sklearn.metrics import r2_score, mean_squared_error, mean_absolute_error"
      ],
      "execution_count": null,
      "outputs": []
    },
    {
      "cell_type": "code",
      "metadata": {
        "colab": {
          "base_uri": "https://localhost:8080/"
        },
        "id": "-RvfNe-9Lwkf",
        "outputId": "9826324d-2461-4c59-f888-0a9a51150f43"
      },
      "source": [
        "r2_score(train_y_plot, trainPredict)"
      ],
      "execution_count": null,
      "outputs": [
        {
          "output_type": "execute_result",
          "data": {
            "text/plain": [
              "0.15357254759607686"
            ]
          },
          "metadata": {},
          "execution_count": 156
        }
      ]
    },
    {
      "cell_type": "code",
      "metadata": {
        "colab": {
          "base_uri": "https://localhost:8080/",
          "height": 265
        },
        "id": "qMxV1OkFKj5Q",
        "outputId": "28ae2e6b-e3b1-4d36-e59c-c7126f25f8f4"
      },
      "source": [
        "# plot baseline and predictions\n",
        "plt.plot(train_y_plot)\n",
        "plt.plot(trainPredict)\n",
        "plt.show()"
      ],
      "execution_count": null,
      "outputs": [
        {
          "output_type": "display_data",
          "data": {
            "image/png": "[encoded data removed]",
            "text/plain": [
              "<Figure size 432x288 with 1 Axes>"
            ]
          },
          "metadata": {
            "needs_background": "light"
          }
        }
      ]
    },
    {
      "cell_type": "code",
      "metadata": {
        "colab": {
          "base_uri": "https://localhost:8080/",
          "height": 266
        },
        "id": "pTVI6uq5PvV0",
        "outputId": "1b67e509-2c4a-45a4-a8bb-41aab7344618"
      },
      "source": [
        "plt.plot(test_y_plot)\n",
        "plt.plot(testPredict)\n",
        "plt.show()"
      ],
      "execution_count": null,
      "outputs": [
        {
          "output_type": "display_data",
          "data": {
            "image/png": "[encoded data removed]",
            "text/plain": [
              "<Figure size 432x288 with 1 Axes>"
            ]
          },
          "metadata": {
            "needs_background": "light"
          }
        }
      ]
    },
    {
      "cell_type": "code",
      "metadata": {
        "id": "MYyMzC_zMEn7"
      },
      "source": [
        "from numpy import savetxt\n",
        "# save to csv file\n",
        "savetxt('features.csv', trainPredict, delimiter=',')\n",
        "savetxt('features2.csv', train_y_plot, delimiter=',')"
      ],
      "execution_count": null,
      "outputs": []
    },
    {
      "cell_type": "code",
      "metadata": {
        "id": "yTa8KC-sMEkZ"
      },
      "source": [
        "# MAPE function\n",
        "def mape(actual, pred): \n",
        "    actual, pred = np.array(actual), np.array(pred)\n",
        "    return np.mean(np.abs((actual - pred) / actual)) * 100\n",
        "\n",
        "def median_ape(actual, pred): \n",
        "    actual, pred = np.array(actual), np.array(pred)\n",
        "    return np.median(np.abs((actual - pred) / actual)) * 100"
      ],
      "execution_count": null,
      "outputs": []
    },
    {
      "cell_type": "code",
      "metadata": {
        "colab": {
          "base_uri": "https://localhost:8080/"
        },
        "id": "hJ08FQ5GMEhP",
        "outputId": "b1f87a14-b7eb-48a4-b361-b89496b555df"
      },
      "source": [
        "# Calculate MAPE\n",
        "mape_train = mape(train_y_plot+0.01, trainPredict)\n",
        "mape_test = mape(test_y_plot+0.01, testPredict)\n",
        "print(\"MAPE of training set:\",np.round(mape_train,2), \"MAPE of testing set:\", np.round(mape_test,2))\n",
        "\n"
      ],
      "execution_count": null,
      "outputs": [
        {
          "output_type": "stream",
          "name": "stdout",
          "text": [
            "MAPE of training set: 1170978.01 MAPE of testing set: 2666855.81\n"
          ]
        }
      ]
    },
    {
      "cell_type": "code",
      "metadata": {
        "id": "ri8qPDOJMEZ9"
      },
      "source": [
        ""
      ],
      "execution_count": null,
      "outputs": []
    },
    {
      "cell_type": "code",
      "metadata": {
        "id": "kllGxRfTMEWe"
      },
      "source": [
        ""
      ],
      "execution_count": null,
      "outputs": []
    },
    {
      "cell_type": "code",
      "metadata": {
        "id": "dcqfzD2PKj1M",
        "colab": {
          "base_uri": "https://localhost:8080/"
        },
        "outputId": "18ae46f6-d8c7-4dbe-aa0d-301195143fc9"
      },
      "source": [
        "# create and fit the LSTM network 2\n",
        "model = Sequential()\n",
        "model.add(LSTM(6, return_sequences=True, input_shape=(6,1)))\n",
        "model.add(LSTM(6))\n",
        "model.add(BatchNormalization())\n",
        "model.add(Dropout(0.2))\n",
        "model.add(Dense(1))\n",
        "optimizer = Adam(clipvalue=1.0)\n",
        "model.compile(loss='mean_squared_error', optimizer=optimizer)\n",
        "\n",
        "model.fit(train_X_sc, train_y_sc, epochs=100, batch_size=24, verbose=2)"
      ],
      "execution_count": null,
      "outputs": [
        {
          "output_type": "stream",
          "name": "stdout",
          "text": [
            "Epoch 1/100\n",
            "80/80 - 5s - loss: 0.9671 - 5s/epoch - 58ms/step\n",
            "Epoch 2/100\n",
            "80/80 - 1s - loss: 0.9530 - 574ms/epoch - 7ms/step\n",
            "Epoch 3/100\n",
            "80/80 - 1s - loss: 0.9428 - 593ms/epoch - 7ms/step\n",
            "Epoch 4/100\n",
            "80/80 - 1s - loss: 0.9469 - 594ms/epoch - 7ms/step\n",
            "Epoch 5/100\n",
            "80/80 - 1s - loss: 0.9332 - 590ms/epoch - 7ms/step\n",
            "Epoch 6/100\n",
            "80/80 - 1s - loss: 0.9399 - 574ms/epoch - 7ms/step\n",
            "Epoch 7/100\n",
            "80/80 - 1s - loss: 0.9407 - 580ms/epoch - 7ms/step\n",
            "Epoch 8/100\n",
            "80/80 - 1s - loss: 0.9400 - 581ms/epoch - 7ms/step\n",
            "Epoch 9/100\n",
            "80/80 - 1s - loss: 0.9397 - 589ms/epoch - 7ms/step\n",
            "Epoch 10/100\n",
            "80/80 - 1s - loss: 0.9397 - 575ms/epoch - 7ms/step\n",
            "Epoch 11/100\n",
            "80/80 - 1s - loss: 0.9364 - 579ms/epoch - 7ms/step\n",
            "Epoch 12/100\n",
            "80/80 - 1s - loss: 0.9266 - 569ms/epoch - 7ms/step\n",
            "Epoch 13/100\n",
            "80/80 - 1s - loss: 0.9362 - 578ms/epoch - 7ms/step\n",
            "Epoch 14/100\n",
            "80/80 - 1s - loss: 0.9377 - 567ms/epoch - 7ms/step\n",
            "Epoch 15/100\n",
            "80/80 - 1s - loss: 0.9229 - 579ms/epoch - 7ms/step\n",
            "Epoch 16/100\n",
            "80/80 - 1s - loss: 0.9210 - 575ms/epoch - 7ms/step\n",
            "Epoch 17/100\n",
            "80/80 - 1s - loss: 0.9239 - 575ms/epoch - 7ms/step\n",
            "Epoch 18/100\n",
            "80/80 - 1s - loss: 0.9248 - 558ms/epoch - 7ms/step\n",
            "Epoch 19/100\n",
            "80/80 - 1s - loss: 0.9256 - 577ms/epoch - 7ms/step\n",
            "Epoch 20/100\n",
            "80/80 - 1s - loss: 0.9162 - 569ms/epoch - 7ms/step\n",
            "Epoch 21/100\n",
            "80/80 - 1s - loss: 0.9289 - 589ms/epoch - 7ms/step\n",
            "Epoch 22/100\n",
            "80/80 - 1s - loss: 0.9263 - 570ms/epoch - 7ms/step\n",
            "Epoch 23/100\n",
            "80/80 - 1s - loss: 0.9235 - 581ms/epoch - 7ms/step\n",
            "Epoch 24/100\n",
            "80/80 - 1s - loss: 0.9207 - 587ms/epoch - 7ms/step\n",
            "Epoch 25/100\n",
            "80/80 - 1s - loss: 0.9210 - 585ms/epoch - 7ms/step\n",
            "Epoch 26/100\n",
            "80/80 - 1s - loss: 0.9241 - 598ms/epoch - 7ms/step\n",
            "Epoch 27/100\n",
            "80/80 - 1s - loss: 0.9220 - 610ms/epoch - 8ms/step\n",
            "Epoch 28/100\n",
            "80/80 - 1s - loss: 0.9201 - 593ms/epoch - 7ms/step\n",
            "Epoch 29/100\n",
            "80/80 - 1s - loss: 0.9225 - 593ms/epoch - 7ms/step\n",
            "Epoch 30/100\n",
            "80/80 - 1s - loss: 0.9171 - 596ms/epoch - 7ms/step\n",
            "Epoch 31/100\n",
            "80/80 - 1s - loss: 0.9210 - 573ms/epoch - 7ms/step\n",
            "Epoch 32/100\n",
            "80/80 - 1s - loss: 0.9303 - 565ms/epoch - 7ms/step\n",
            "Epoch 33/100\n",
            "80/80 - 1s - loss: 0.9251 - 601ms/epoch - 8ms/step\n",
            "Epoch 34/100\n",
            "80/80 - 1s - loss: 0.9281 - 610ms/epoch - 8ms/step\n",
            "Epoch 35/100\n",
            "80/80 - 1s - loss: 0.9289 - 574ms/epoch - 7ms/step\n",
            "Epoch 36/100\n",
            "80/80 - 1s - loss: 0.9144 - 572ms/epoch - 7ms/step\n",
            "Epoch 37/100\n",
            "80/80 - 1s - loss: 0.9224 - 587ms/epoch - 7ms/step\n",
            "Epoch 38/100\n",
            "80/80 - 1s - loss: 0.9160 - 601ms/epoch - 8ms/step\n",
            "Epoch 39/100\n",
            "80/80 - 1s - loss: 0.9289 - 588ms/epoch - 7ms/step\n",
            "Epoch 40/100\n",
            "80/80 - 1s - loss: 0.9156 - 583ms/epoch - 7ms/step\n",
            "Epoch 41/100\n",
            "80/80 - 1s - loss: 0.9179 - 570ms/epoch - 7ms/step\n",
            "Epoch 42/100\n",
            "80/80 - 1s - loss: 0.9298 - 568ms/epoch - 7ms/step\n",
            "Epoch 43/100\n",
            "80/80 - 1s - loss: 0.9202 - 581ms/epoch - 7ms/step\n",
            "Epoch 44/100\n",
            "80/80 - 1s - loss: 0.9187 - 583ms/epoch - 7ms/step\n",
            "Epoch 45/100\n",
            "80/80 - 1s - loss: 0.9200 - 582ms/epoch - 7ms/step\n",
            "Epoch 46/100\n",
            "80/80 - 1s - loss: 0.9144 - 587ms/epoch - 7ms/step\n",
            "Epoch 47/100\n",
            "80/80 - 1s - loss: 0.9191 - 566ms/epoch - 7ms/step\n",
            "Epoch 48/100\n",
            "80/80 - 1s - loss: 0.9158 - 580ms/epoch - 7ms/step\n",
            "Epoch 49/100\n",
            "80/80 - 1s - loss: 0.9219 - 559ms/epoch - 7ms/step\n",
            "Epoch 50/100\n",
            "80/80 - 1s - loss: 0.9154 - 581ms/epoch - 7ms/step\n",
            "Epoch 51/100\n",
            "80/80 - 1s - loss: 0.9206 - 589ms/epoch - 7ms/step\n",
            "Epoch 52/100\n",
            "80/80 - 1s - loss: 0.9190 - 563ms/epoch - 7ms/step\n",
            "Epoch 53/100\n",
            "80/80 - 1s - loss: 0.9007 - 559ms/epoch - 7ms/step\n",
            "Epoch 54/100\n",
            "80/80 - 1s - loss: 0.9062 - 583ms/epoch - 7ms/step\n",
            "Epoch 55/100\n",
            "80/80 - 1s - loss: 0.9111 - 597ms/epoch - 7ms/step\n",
            "Epoch 56/100\n",
            "80/80 - 1s - loss: 0.9097 - 558ms/epoch - 7ms/step\n",
            "Epoch 57/100\n",
            "80/80 - 1s - loss: 0.9112 - 557ms/epoch - 7ms/step\n",
            "Epoch 58/100\n",
            "80/80 - 1s - loss: 0.9084 - 565ms/epoch - 7ms/step\n",
            "Epoch 59/100\n",
            "80/80 - 1s - loss: 0.9178 - 553ms/epoch - 7ms/step\n",
            "Epoch 60/100\n",
            "80/80 - 1s - loss: 0.9161 - 576ms/epoch - 7ms/step\n",
            "Epoch 61/100\n",
            "80/80 - 1s - loss: 0.9146 - 576ms/epoch - 7ms/step\n",
            "Epoch 62/100\n",
            "80/80 - 1s - loss: 0.9184 - 558ms/epoch - 7ms/step\n",
            "Epoch 63/100\n",
            "80/80 - 1s - loss: 0.9220 - 558ms/epoch - 7ms/step\n",
            "Epoch 64/100\n",
            "80/80 - 1s - loss: 0.9163 - 556ms/epoch - 7ms/step\n",
            "Epoch 65/100\n",
            "80/80 - 1s - loss: 0.9164 - 575ms/epoch - 7ms/step\n",
            "Epoch 66/100\n",
            "80/80 - 1s - loss: 0.9185 - 564ms/epoch - 7ms/step\n",
            "Epoch 67/100\n",
            "80/80 - 1s - loss: 0.9130 - 573ms/epoch - 7ms/step\n",
            "Epoch 68/100\n",
            "80/80 - 1s - loss: 0.9147 - 571ms/epoch - 7ms/step\n",
            "Epoch 69/100\n",
            "80/80 - 1s - loss: 0.9112 - 562ms/epoch - 7ms/step\n",
            "Epoch 70/100\n",
            "80/80 - 1s - loss: 0.9091 - 559ms/epoch - 7ms/step\n",
            "Epoch 71/100\n",
            "80/80 - 1s - loss: 0.9121 - 579ms/epoch - 7ms/step\n",
            "Epoch 72/100\n",
            "80/80 - 1s - loss: 0.9307 - 573ms/epoch - 7ms/step\n",
            "Epoch 73/100\n",
            "80/80 - 1s - loss: 0.9111 - 589ms/epoch - 7ms/step\n",
            "Epoch 74/100\n",
            "80/80 - 1s - loss: 0.9221 - 563ms/epoch - 7ms/step\n",
            "Epoch 75/100\n",
            "80/80 - 1s - loss: 0.9109 - 579ms/epoch - 7ms/step\n",
            "Epoch 76/100\n",
            "80/80 - 1s - loss: 0.9174 - 563ms/epoch - 7ms/step\n",
            "Epoch 77/100\n",
            "80/80 - 1s - loss: 0.9102 - 570ms/epoch - 7ms/step\n",
            "Epoch 78/100\n",
            "80/80 - 1s - loss: 0.9142 - 571ms/epoch - 7ms/step\n",
            "Epoch 79/100\n",
            "80/80 - 1s - loss: 0.9061 - 555ms/epoch - 7ms/step\n",
            "Epoch 80/100\n",
            "80/80 - 1s - loss: 0.9252 - 560ms/epoch - 7ms/step\n",
            "Epoch 81/100\n",
            "80/80 - 1s - loss: 0.9023 - 569ms/epoch - 7ms/step\n",
            "Epoch 82/100\n",
            "80/80 - 1s - loss: 0.9119 - 578ms/epoch - 7ms/step\n",
            "Epoch 83/100\n",
            "80/80 - 1s - loss: 0.9219 - 574ms/epoch - 7ms/step\n",
            "Epoch 84/100\n",
            "80/80 - 1s - loss: 0.9049 - 580ms/epoch - 7ms/step\n",
            "Epoch 85/100\n",
            "80/80 - 1s - loss: 0.9065 - 578ms/epoch - 7ms/step\n",
            "Epoch 86/100\n",
            "80/80 - 1s - loss: 0.9167 - 571ms/epoch - 7ms/step\n",
            "Epoch 87/100\n",
            "80/80 - 1s - loss: 0.9152 - 578ms/epoch - 7ms/step\n",
            "Epoch 88/100\n",
            "80/80 - 1s - loss: 0.9070 - 590ms/epoch - 7ms/step\n",
            "Epoch 89/100\n",
            "80/80 - 1s - loss: 0.9037 - 584ms/epoch - 7ms/step\n",
            "Epoch 90/100\n",
            "80/80 - 1s - loss: 0.9165 - 564ms/epoch - 7ms/step\n",
            "Epoch 91/100\n",
            "80/80 - 1s - loss: 0.9057 - 580ms/epoch - 7ms/step\n",
            "Epoch 92/100\n",
            "80/80 - 1s - loss: 0.9083 - 588ms/epoch - 7ms/step\n",
            "Epoch 93/100\n",
            "80/80 - 1s - loss: 0.9112 - 554ms/epoch - 7ms/step\n",
            "Epoch 94/100\n",
            "80/80 - 1s - loss: 0.9189 - 555ms/epoch - 7ms/step\n",
            "Epoch 95/100\n",
            "80/80 - 1s - loss: 0.9064 - 550ms/epoch - 7ms/step\n",
            "Epoch 96/100\n",
            "80/80 - 1s - loss: 0.9084 - 565ms/epoch - 7ms/step\n",
            "Epoch 97/100\n",
            "80/80 - 1s - loss: 0.9241 - 572ms/epoch - 7ms/step\n",
            "Epoch 98/100\n",
            "80/80 - 1s - loss: 0.9202 - 581ms/epoch - 7ms/step\n",
            "Epoch 99/100\n",
            "80/80 - 1s - loss: 0.9097 - 556ms/epoch - 7ms/step\n",
            "Epoch 100/100\n",
            "80/80 - 1s - loss: 0.9172 - 573ms/epoch - 7ms/step\n"
          ]
        },
        {
          "output_type": "execute_result",
          "data": {
            "text/plain": [
              "<keras.callbacks.History at 0x7f8408be1210>"
            ]
          },
          "metadata": {},
          "execution_count": 140
        }
      ]
    },
    {
      "cell_type": "code",
      "metadata": {
        "id": "EqIRJDlGKjw-",
        "colab": {
          "base_uri": "https://localhost:8080/"
        },
        "outputId": "01d81f03-ef38-4361-bcf0-04295ef94f46"
      },
      "source": [
        "trainScore = math.sqrt(mean_squared_error(train_y_plot, trainPredict))\n",
        "print('Train Score: %.2f RMSE' % (trainScore))\n",
        "testScore = math.sqrt(mean_squared_error(test_y_plot, testPredict))\n",
        "print('Test Score: %.2f RMSE' % (testScore))"
      ],
      "execution_count": null,
      "outputs": [
        {
          "output_type": "stream",
          "name": "stdout",
          "text": [
            "Train Score: 1454.86 RMSE\n",
            "Test Score: 5348.94 RMSE\n"
          ]
        }
      ]
    },
    {
      "cell_type": "code",
      "metadata": {
        "id": "3AsqrYxRKjsf"
      },
      "source": [
        "from sklearn.metrics import r2_score, mean_squared_error, mean_absolute_error"
      ],
      "execution_count": null,
      "outputs": []
    },
    {
      "cell_type": "code",
      "metadata": {
        "id": "1WUVGi-RKjn0",
        "colab": {
          "base_uri": "https://localhost:8080/"
        },
        "outputId": "800acc62-78c7-48d0-bb24-6aeea0a39718"
      },
      "source": [
        "r2_score(train_y_plot, trainPredict)"
      ],
      "execution_count": null,
      "outputs": [
        {
          "output_type": "execute_result",
          "data": {
            "text/plain": [
              "0.10156996303494115"
            ]
          },
          "metadata": {},
          "execution_count": 148
        }
      ]
    },
    {
      "cell_type": "code",
      "metadata": {
        "id": "L1TA4hDhKjck",
        "colab": {
          "base_uri": "https://localhost:8080/",
          "height": 265
        },
        "outputId": "800e8acf-618e-47a1-b1f8-2a5ab70c169a"
      },
      "source": [
        "# plot baseline and predictions\n",
        "plt.plot(train_y_plot)\n",
        "plt.plot(trainPredict)\n",
        "plt.show()"
      ],
      "execution_count": null,
      "outputs": [
        {
          "output_type": "display_data",
          "data": {
            "image/png": "[encoded data removed]",
            "text/plain": [
              "<Figure size 432x288 with 1 Axes>"
            ]
          },
          "metadata": {
            "needs_background": "light"
          }
        }
      ]
    },
    {
      "cell_type": "code",
      "metadata": {
        "colab": {
          "base_uri": "https://localhost:8080/",
          "height": 265
        },
        "id": "6l6Cb05UggbD",
        "outputId": "0172f111-c043-4dbe-f18e-702e27a55762"
      },
      "source": [
        "# plot baseline and predictions\n",
        "plt.plot(train_y_plot)\n",
        "plt.plot(trainPredict)\n",
        "plt.show()"
      ],
      "execution_count": null,
      "outputs": [
        {
          "output_type": "display_data",
          "data": {
            "image/png": "[encoded data removed]",
            "text/plain": [
              "<Figure size 432x288 with 1 Axes>"
            ]
          },
          "metadata": {
            "needs_background": "light"
          }
        }
      ]
    },
    {
      "cell_type": "code",
      "metadata": {
        "colab": {
          "base_uri": "https://localhost:8080/"
        },
        "id": "IaJYTC5tggSs",
        "outputId": "9dc3c3c0-969f-4dcf-a7bf-abbe8ab185d2"
      },
      "source": [
        "# Calculate MAPE\n",
        "mape_train = mape(train_y_plot+0.01, trainPredict)\n",
        "mape_test = mape(test_y_plot+0.01, testPredict)\n",
        "print(\"MAPE of training set:\",np.round(mape_train,2), \"MAPE of testing set:\", np.round(mape_test,2))\n",
        "\n"
      ],
      "execution_count": null,
      "outputs": [
        {
          "output_type": "stream",
          "name": "stdout",
          "text": [
            "MAPE of training set: 1636168.59 MAPE of testing set: 3389315.72\n"
          ]
        }
      ]
    },
    {
      "cell_type": "code",
      "metadata": {
        "id": "i-q7fnxWpGvc"
      },
      "source": [
        ""
      ],
      "execution_count": null,
      "outputs": []
    }
  ]
}